{
 "cells": [
  {
   "cell_type": "markdown",
   "metadata": {},
   "source": [
    "## Import cv2 and numpy library"
   ]
  },
  {
   "cell_type": "code",
   "execution_count": null,
   "metadata": {},
   "outputs": [],
   "source": [
    "import cv2\n",
    "import numpy as np"
   ]
  },
  {
   "cell_type": "markdown",
   "metadata": {},
   "source": [
    "## Reading and Showing Images"
   ]
  },
  {
   "cell_type": "code",
   "execution_count": null,
   "metadata": {},
   "outputs": [],
   "source": [
    "pic1 = cv2.imread('Dog_1.jpg') # First Image"
   ]
  },
  {
   "cell_type": "code",
   "execution_count": null,
   "metadata": {},
   "outputs": [],
   "source": [
    "pic2 = cv2.imread('Dog_2.jpg') # Second Image"
   ]
  },
  {
   "cell_type": "code",
   "execution_count": null,
   "metadata": {},
   "outputs": [],
   "source": [
    "pic3 = cv2.imread('Dog_3.jpg') # Third Image"
   ]
  },
  {
   "cell_type": "code",
   "execution_count": null,
   "metadata": {},
   "outputs": [],
   "source": [
    "cv2.imshow('dog_1', pic1)\n",
    "cv2.waitKey()\n",
    "cv2.destroyAllWindows()"
   ]
  },
  {
   "cell_type": "code",
   "execution_count": null,
   "metadata": {},
   "outputs": [],
   "source": [
    "cv2.imshow('dog_2', pic2)\n",
    "cv2.waitKey()\n",
    "cv2.destroyAllWindows()"
   ]
  },
  {
   "cell_type": "code",
   "execution_count": null,
   "metadata": {},
   "outputs": [],
   "source": [
    "cv2.imshow('dog_3', pic3)\n",
    "cv2.waitKey()\n",
    "cv2.destroyAllWindows()"
   ]
  },
  {
   "cell_type": "markdown",
   "metadata": {},
   "source": [
    "# Drawing the group of circles"
   ]
  },
  {
   "cell_type": "code",
   "execution_count": null,
   "metadata": {},
   "outputs": [],
   "source": [
    "pic_8 = np.zeros((500,500,3),dtype = \"uint8\")\n",
    "for i in range (20):\n",
    "    if i%2 == 0 and i%5 == 0:\n",
    "        cv2.circle(pic_8, (250, 250), 10, (255, 0, 0), 3)\n",
    "        cv2.circle(pic_8, (250, 250), 50, (255, 0, 0), 3)\n",
    "        cv2.circle(pic_8, (250, 250), 100, (255, 0, 0), 3)\n",
    "        cv2.circle(pic_8, (250, 250), 150, (255, 0, 0), 3)\n",
    "        cv2.circle(pic_8, (250, 250), 200, (255, 0, 0), 3)\n",
    "        cv2.circle(pic_8, (250, 250), 250, (255, 0, 0), 3)\n",
    "        cv2.circle(pic_8, (250, 250), 300, (255, 0, 0), 3)\n",
    "        cv2.circle(pic_8, (250, 250), 350, (255, 0, 0), 3)\n",
    "        cv2.circle(pic_8, (250, 250), 400, (255, 0, 0), 3)\n",
    "        cv2.imshow('rect', pic_8)\n",
    "        cv2.waitKey(200)\n",
    "    elif i%3 == 0 and i%5 == 0:\n",
    "        cv2.circle(pic_8, (250, 250), 10, (0, 0, 250), 3)\n",
    "        cv2.circle(pic_8, (250, 250), 50, (0, 0, 250), 3)\n",
    "        cv2.circle(pic_8, (250, 250), 100, (0, 0, 250), 3)\n",
    "        cv2.circle(pic_8, (250, 250), 150, (0, 0, 250), 3)\n",
    "        cv2.circle(pic_8, (250, 250), 200, (0, 0, 250), 3)\n",
    "        cv2.circle(pic_8, (250, 250), 250, (0, 0, 250), 3)\n",
    "        cv2.circle(pic_8, (250, 250), 300, (0, 0, 250), 3)\n",
    "        cv2.circle(pic_8, (250, 250), 350, (0, 0, 250), 3)\n",
    "        cv2.circle(pic_8, (250, 250), 400, (0, 0, 250), 3)\n",
    "        cv2.imshow('rect', pic_8)\n",
    "        cv2.waitKey(200)\n",
    "    elif i%2 == 0 and i%3 == 0:\n",
    "        cv2.circle(pic_8, (250, 250), 10, (0, 255, 0), 3)\n",
    "        cv2.circle(pic_8, (250, 250), 50, (0, 255, 0), 3)\n",
    "        cv2.circle(pic_8, (250, 250), 100, (0, 255, 0), 3)\n",
    "        cv2.circle(pic_8, (250, 250), 150, (0, 255, 0), 3)\n",
    "        cv2.circle(pic_8, (250, 250), 200, (0, 255, 0), 3)\n",
    "        cv2.circle(pic_8, (250, 250), 250, (0, 255, 0), 3)\n",
    "        cv2.circle(pic_8, (250, 250), 300, (0, 255, 0), 3)\n",
    "        cv2.circle(pic_8, (250, 250), 350, (0, 255, 0), 3)\n",
    "        cv2.circle(pic_8, (250, 250), 400, (0, 255, 0), 3)\n",
    "        cv2.imshow('rect', pic_8)\n",
    "        cv2.waitKey(200)\n",
    "\n",
    "    elif i%2 == 0:\n",
    "        cv2.circle(pic_8, (250, 250), 10, (255, 0, 255), 3)\n",
    "        cv2.circle(pic_8, (250, 250), 50, (255, 0, 255), 3)\n",
    "        cv2.circle(pic_8, (250, 250), 100, (255, 0, 255), 3)\n",
    "        cv2.circle(pic_8, (250, 250), 150, (255, 0, 255), 3)\n",
    "        cv2.circle(pic_8, (250, 250), 200, (255, 0, 255), 3)\n",
    "        cv2.circle(pic_8, (250, 250), 250, (255, 0, 255), 3)\n",
    "        cv2.circle(pic_8, (250, 250), 300, (255, 0, 255), 3)\n",
    "        cv2.circle(pic_8, (250, 250), 350, (255, 0, 255), 3)\n",
    "        cv2.circle(pic_8, (250, 250), 400, (255, 0, 255), 3)\n",
    "        cv2.imshow('rect', pic_8)\n",
    "        cv2.waitKey(200)\n",
    "\n",
    "    elif i%3 == 0:\n",
    "        cv2.circle(pic_8, (250, 250), 10, (0, 250, 250), 3)\n",
    "        cv2.circle(pic_8, (250, 250), 50, (0, 250, 250), 3)\n",
    "        cv2.circle(pic_8, (250, 250), 100, (0, 250, 250), 3)\n",
    "        cv2.circle(pic_8, (250, 250), 150, (0, 250, 250), 3)\n",
    "        cv2.circle(pic_8, (250, 250), 200, (0, 250, 250), 3)\n",
    "        cv2.circle(pic_8, (250, 250), 250, (0, 250, 250), 3)\n",
    "        cv2.circle(pic_8, (250, 250), 300, (0, 250, 250), 3)\n",
    "        cv2.circle(pic_8, (250, 250), 350, (0, 250, 250), 3)\n",
    "        cv2.circle(pic_8, (250, 250), 400, (0, 250, 250), 3)\n",
    "        cv2.imshow('rect', pic_8)\n",
    "        cv2.waitKey(200)\n",
    "\n",
    "    elif i%5 == 0:\n",
    "        cv2.circle(pic_8, (250, 250), 10, (255, 255, 255), 3)\n",
    "        cv2.circle(pic_8, (250, 250), 50, (255, 255, 255), 3)\n",
    "        cv2.circle(pic_8, (250, 250), 100, (255, 255, 255), 3)\n",
    "        cv2.circle(pic_8, (250, 250), 150, (255, 255, 255), 3)\n",
    "        cv2.circle(pic_8, (250, 250), 200, (255, 255, 255), 3)\n",
    "        cv2.circle(pic_8, (250, 250), 250, (255, 255, 255), 3)\n",
    "        cv2.circle(pic_8, (250, 250), 300, (255, 255, 255), 3)\n",
    "        cv2.circle(pic_8, (250, 250), 350, (255, 255, 255), 3)\n",
    "        cv2.circle(pic_8, (250, 250), 400, (255, 255, 255), 3)\n",
    "        cv2.imshow('rect', pic_8)\n",
    "        cv2.waitKey(200)\n",
    "\n",
    "    else:\n",
    "        cv2.circle(pic_8, (250, 250), 10, (255, 0, 0), 3)\n",
    "        cv2.circle(pic_8, (250, 250), 50, (0, 255, 0), 3)\n",
    "        cv2.circle(pic_8, (250, 250), 100, (255, 255, 0), 3)\n",
    "        cv2.circle(pic_8, (250, 250), 150, (0, 0, 250), 3)\n",
    "        cv2.circle(pic_8, (250, 250), 200, (0, 255, 0), 3)\n",
    "        cv2.circle(pic_8, (250, 250), 250, (0, 0, 255), 3)\n",
    "        cv2.circle(pic_8, (250, 250), 300, (255, 255, 0), 3)\n",
    "        cv2.circle(pic_8, (250, 250), 350, (255, 0, 255), 3)\n",
    "        cv2.circle(pic_8, (250, 250), 400, (255, 255, 255), 3)\n",
    "        cv2.imshow('rect', pic_8)\n",
    "        cv2.waitKey(200)\n",
    "\n",
    "cv2.destroyAllWindows()   "
   ]
  },
  {
   "cell_type": "markdown",
   "metadata": {},
   "source": [
    "# Hut Using Opencv"
   ]
  },
  {
   "cell_type": "code",
   "execution_count": null,
   "metadata": {},
   "outputs": [],
   "source": [
    "pic_9 = np.zeros((500,500,3),dtype = \"uint8\")\n",
    "cv2.rectangle(pic_9,(150,180),(250,300),(0, 250, 250),-10)\n",
    "cv2.rectangle(pic_9,(250,180),(420,300),(0, 0, 250),-10)\n",
    "cv2.rectangle(pic_9,(180,250),(220,300),(0, 0, 250),-10)\n",
    "\n",
    "cv2.line(pic_9,(220,250),(180,250),(255, 0, 250),5)\n",
    "cv2.line(pic_9,(220,250),(220,300),(255, 0, 250),5)\n",
    "cv2.line(pic_9,(220,300),(180,300),(255, 0, 250),5)\n",
    "cv2.line(pic_9,(180,250),(180,300),(255, 0, 250),5)\n",
    "\n",
    "cv2.line(pic_9,(200,100),(150,180),(255, 0, 250),5)\n",
    "cv2.line(pic_9,(200,100),(250,180),(255, 0, 250),5)\n",
    "cv2.line(pic_9,(200,100),(370,100),(255, 0, 250),5)\n",
    "cv2.line(pic_9,(370,100),(420,180),(255, 0, 250),5)\n",
    "\n",
    "cv2.line(pic_9,(420,180),(150,180),(255, 0, 250),5)\n",
    "\n",
    "cv2.line(pic_9,(150,180),(150,300),(255, 0, 250),5)\n",
    "cv2.line(pic_9,(420,300),(150,300),(255, 0, 250),5)\n",
    "cv2.line(pic_9,(420,300),(420,180),(255, 0, 250),5)\n",
    "cv2.line(pic_9,(250,180),(250,300),(255, 0, 250),5)\n",
    "\n",
    "cv2.imshow('pin', pic_9)\n",
    "cv2.waitKey()\n",
    "cv2.destroyAllWindows()"
   ]
  },
  {
   "cell_type": "markdown",
   "metadata": {},
   "source": [
    "# Cropping Images using Opencv"
   ]
  },
  {
   "cell_type": "code",
   "execution_count": null,
   "metadata": {},
   "outputs": [],
   "source": [
    "new = cv2.rectangle(pic1, (400,500), (100,200), [0,250,0], 5)"
   ]
  },
  {
   "cell_type": "code",
   "execution_count": null,
   "metadata": {},
   "outputs": [],
   "source": [
    "cv2.imshow('pi1', new)\n",
    "cv2.waitKey()\n",
    "cv2.destroyAllWindows()"
   ]
  },
  {
   "cell_type": "code",
   "execution_count": null,
   "metadata": {},
   "outputs": [],
   "source": [
    "cute= pic1[200:500, 100:400]"
   ]
  },
  {
   "cell_type": "code",
   "execution_count": null,
   "metadata": {},
   "outputs": [],
   "source": [
    "cv2.imshow('pi2', cute)\n",
    "cv2.waitKey()\n",
    "cv2.destroyAllWindows()"
   ]
  },
  {
   "cell_type": "code",
   "execution_count": null,
   "metadata": {},
   "outputs": [],
   "source": [
    "cute2= pic3[70:250, 150:400]"
   ]
  },
  {
   "cell_type": "markdown",
   "metadata": {},
   "source": [
    "# Swap two Images"
   ]
  },
  {
   "cell_type": "code",
   "execution_count": null,
   "metadata": {},
   "outputs": [],
   "source": [
    "pic1[200:500, 100:400]=pic3[50:350, 130:430]"
   ]
  },
  {
   "cell_type": "code",
   "execution_count": null,
   "metadata": {},
   "outputs": [],
   "source": [
    "cv2.imshow('pi2', pic1)\n",
    "cv2.waitKey()\n",
    "cv2.destroyAllWindows()"
   ]
  },
  {
   "cell_type": "markdown",
   "metadata": {},
   "source": [
    "# Merge two images"
   ]
  },
  {
   "cell_type": "code",
   "execution_count": null,
   "metadata": {},
   "outputs": [],
   "source": [
    "pic1 = cv2.imread('Dog_1.jpg')\n",
    "pic2 = cv2.imread('Dog_2.jpg')\n",
    "pic3 = cv2.imread('Dog_3.jpg')"
   ]
  },
  {
   "cell_type": "code",
   "execution_count": null,
   "metadata": {},
   "outputs": [],
   "source": [
    "num = np.hstack((pic1[200:500, 100:400],pic3[50:350, 130:430]))"
   ]
  },
  {
   "cell_type": "code",
   "execution_count": null,
   "metadata": {},
   "outputs": [],
   "source": [
    "cv2.imshow('pi2', num)\n",
    "cv2.waitKey()\n",
    "cv2.destroyAllWindows()"
   ]
  },
  {
   "cell_type": "code",
   "execution_count": null,
   "metadata": {},
   "outputs": [],
   "source": []
  }
 ],
 "metadata": {
  "kernelspec": {
   "display_name": "Python 3",
   "language": "python",
   "name": "python3"
  },
  "language_info": {
   "codemirror_mode": {
    "name": "ipython",
    "version": 3
   },
   "file_extension": ".py",
   "mimetype": "text/x-python",
   "name": "python",
   "nbconvert_exporter": "python",
   "pygments_lexer": "ipython3",
   "version": "3.8.5"
  }
 },
 "nbformat": 4,
 "nbformat_minor": 4
}
