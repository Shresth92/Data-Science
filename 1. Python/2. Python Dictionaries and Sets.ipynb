{
 "cells": [
  {
   "cell_type": "markdown",
   "metadata": {},
   "source": [
    "# Data Science and Machine Learning by Python\n",
    "### Assignment 3 (Python Dictionaries and Sets)"
   ]
  },
  {
   "cell_type": "markdown",
   "metadata": {},
   "source": [
    "Write a Python Program to sort (ascending and descending) a dictionary by value. "
   ]
  },
  {
   "cell_type": "code",
   "execution_count": 1,
   "metadata": {},
   "outputs": [
    {
     "name": "stdout",
     "output_type": "stream",
     "text": [
      "Ascending order of dictionary is :  [(2, 1), (4, 3), (7, 5), (6, 5)]\n",
      "Descending order of dictionary is :  {7: 5, 6: 5, 4: 3, 2: 1}\n"
     ]
    }
   ],
   "source": [
    "import operator as op\n",
    "\n",
    "dictionary = {2: 1, 4: 3, 7: 5, 6: 5}\n",
    "\n",
    "assending = sorted(dictionary.items(), key=op.itemgetter(1))\n",
    "descending = dict( sorted(dictionary.items(), key=op.itemgetter(1),reverse=True))\n",
    "\n",
    "print('Ascending order of dictionary is : ',assending)\n",
    "print('Descending order of dictionary is : ',descending)"
   ]
  },
  {
   "cell_type": "markdown",
   "metadata": {},
   "source": [
    "Write a Python Program to add a key to a dictionary. \n",
    "\n",
    "Sample Dictionary : {0: 10, 1: 20}\n",
    "Expected Result : {0: 10, 1: 20, 2: 30}"
   ]
  },
  {
   "cell_type": "code",
   "execution_count": 2,
   "metadata": {},
   "outputs": [
    {
     "data": {
      "text/plain": [
       "{0: 10, 1: 20, 2: 30}"
      ]
     },
     "execution_count": 2,
     "metadata": {},
     "output_type": "execute_result"
    }
   ],
   "source": [
    "Sample_Dictionary = {0: 10, 1: 20}\n",
    "Sample_Dictionary.update({2:30})\n",
    "Sample_Dictionary"
   ]
  },
  {
   "cell_type": "markdown",
   "metadata": {},
   "source": [
    "Write a  program asks for City name and Temperature and builds a dictionary using that Later on you can input City name and it will tell you the Temperature of that City."
   ]
  },
  {
   "cell_type": "code",
   "execution_count": 3,
   "metadata": {},
   "outputs": [],
   "source": [
    "City = {}"
   ]
  },
  {
   "cell_type": "code",
   "execution_count": 4,
   "metadata": {},
   "outputs": [
    {
     "name": "stdout",
     "output_type": "stream",
     "text": [
      "Tell us the city name: Agra\n",
      "Temperature of your city is: 44\n"
     ]
    },
    {
     "data": {
      "text/plain": [
       "{'Agra': '44'}"
      ]
     },
     "execution_count": 4,
     "metadata": {},
     "output_type": "execute_result"
    }
   ],
   "source": [
    "city = input(\"Tell us the city name: \")\n",
    "temperture = input(\"Temperature of your city is: \")\n",
    "City.update({city:temperture})\n",
    "City"
   ]
  },
  {
   "cell_type": "code",
   "execution_count": 5,
   "metadata": {},
   "outputs": [
    {
     "name": "stdout",
     "output_type": "stream",
     "text": [
      "Do you want to know temperature of any city\n",
      "Tell us the city name: Agra\n",
      "Temperature of Agra is  44\n"
     ]
    }
   ],
   "source": [
    "print(\"Do you want to know temperature of any city\")\n",
    "temp = input(\"Tell us the city name: \")\n",
    "print(f\"Temperature of {temp} is \",City[temp])"
   ]
  },
  {
   "cell_type": "markdown",
   "metadata": {},
   "source": [
    "Write a Python program to convert list to list of dictionaries.\n",
    "\n",
    "Sample lists: [\"Black\", \"Red\", \"Maroon\", \"Yellow\"], [\"#000000\", \"#FF0000\", \"#800000\", \"#FFFF00\"]"
   ]
  },
  {
   "cell_type": "code",
   "execution_count": 6,
   "metadata": {},
   "outputs": [
    {
     "name": "stdout",
     "output_type": "stream",
     "text": [
      "[{'color_name': 'Black', 'color_code': '#000000'}, {'color_name': 'Red', 'color_code': '#FF0000'}, {'color_name': 'Maroon', 'color_code': '#800000'}, {'color_name': 'Yellow', 'color_code': '#FFFF00'}]\n"
     ]
    }
   ],
   "source": [
    "names = [\"Black\", \"Red\", \"Maroon\", \"Yellow\"]\n",
    "codes = [\"#000000\", \"#FF0000\", \"#800000\", \"#FFFF00\"]\n",
    "\n",
    "colors_list = [dict(color_name=x, color_code=y) for (x,y) in zip(names, codes)]\n",
    "print(colors_list)"
   ]
  },
  {
   "cell_type": "markdown",
   "metadata": {},
   "source": [
    "We have following information on Employees and their Salary (Salary is in lakhs),\n",
    "\n",
    "    Employee\tSalary\n",
    "    John\t     14\n",
    "    Smith\t    13\n",
    "    Alice\t    32\n",
    "    Daneil\t   21"
   ]
  },
  {
   "cell_type": "markdown",
   "metadata": {},
   "source": [
    "A. Using above create a dictionary of Employees and their Salary"
   ]
  },
  {
   "cell_type": "code",
   "execution_count": 7,
   "metadata": {},
   "outputs": [
    {
     "name": "stdout",
     "output_type": "stream",
     "text": [
      "{'John': 14, 'Smith': 13, 'Alice': 32, 'Daneil': 21}\n"
     ]
    }
   ],
   "source": [
    "Employee = [\"John\", \"Smith\", \"Alice\", \"Daneil\"]\n",
    "Salary = [14, 13, 32, 21]\n",
    "final = {}\n",
    "\n",
    "for (x, y) in zip(Employee, Salary):\n",
    "    final.update({x:y})\n",
    "\n",
    "print(final)"
   ]
  },
  {
   "cell_type": "markdown",
   "metadata": {},
   "source": [
    "Write a program that asks user for three type of inputs,\n",
    "\n",
    "    print: if user enter print then it should print all Employees with their Salary in this format,\n",
    "        John ==>14\n",
    "        Smith ==>13\n",
    "        Alice ==>32\n",
    "         Daneil ==>21\n",
    "         \n",
    "    add: if user input adds then it should further ask for an Employee name to add. If Employee already exists in our dataset then it should print that it exists and do nothing. If it doesn't then it asks for Salary and add that new Employee/Salary in our dictionary and print it\n",
    "    \n",
    "    remove: when user inputs remove it should ask for an Employee to remove. If an Employee exists in our dictionary then remove it and print a new dictionary using format shown above in (a). Else print that Employee doesn't exist!\n",
    "    \n",
    "    query: on this again ask the user for which Employee he or she wants to query. When a user inputs that Employee it will print the Salary of that Employee."
   ]
  },
  {
   "cell_type": "code",
   "execution_count": 8,
   "metadata": {},
   "outputs": [
    {
     "name": "stdout",
     "output_type": "stream",
     "text": [
      "Enter which operation you want to perform\n",
      "1. print\n",
      "2. add\n",
      "3. remove\n",
      "4. query\n",
      "Enter your choice: print\n",
      "John ==> 14\n",
      "Smith ==> 13\n",
      "Alice ==> 32\n",
      "Daneil ==> 21\n"
     ]
    }
   ],
   "source": [
    "operation = input('''Enter which operation you want to perform\n",
    "1. print\n",
    "2. add\n",
    "3. remove\n",
    "4. query\n",
    "Enter your choice: ''')\n",
    "\n",
    "if operation == \"print\":\n",
    "    for (x, y) in zip(Employee, Salary):\n",
    "        print(f\"{x} ==> {y}\")\n",
    "elif operation == \"add\":\n",
    "    employee = input(\"Enter the employee name\")\n",
    "    if employee in Employee:\n",
    "        print(f\"{employee} is already present in database\")\n",
    "    else:\n",
    "        salary = int(input(f\"Enter the salary of {employee}\"))\n",
    "        final.update({employee: salary})\n",
    "        print(final)\n",
    "elif operation == \"remove\":\n",
    "    employee = input(\"Enter the employee name\")\n",
    "    if employee in Employee:\n",
    "        Salary.pop(Employee.index(employee))\n",
    "        Employee.remove(employee)\n",
    "        for (x, y) in zip(Employee, Salary):\n",
    "            print(f\"{x} ==> {y}\")\n",
    "    else:\n",
    "        print(\"Employee is not present in our data base\")\n",
    "elif operation == \"query\":\n",
    "    employee = input(\"Enter the employee name\")\n",
    "    if employee in Employee:\n",
    "        print(f\"Salary of {employee} is \",Salary[Employee.index(employee)])\n",
    "    else:\n",
    "        print(\"Employee is not present in our data base\") "
   ]
  },
  {
   "cell_type": "markdown",
   "metadata": {},
   "source": [
    "What is the difference between a set and a frozenset? Create any set and try to use frozenset(setname)."
   ]
  },
  {
   "cell_type": "markdown",
   "metadata": {},
   "source": [
    "set are mutable while frozen set are non mutable"
   ]
  },
  {
   "cell_type": "code",
   "execution_count": 9,
   "metadata": {},
   "outputs": [
    {
     "name": "stdout",
     "output_type": "stream",
     "text": [
      "{33, 4, 37, 75, 12, 14, 26}\n",
      "frozenset({33, 37, 26, 75, 12, 14})\n"
     ]
    }
   ],
   "source": [
    "marks = {12, 14, 33, 26, 37, 75}\n",
    "frozen_marks = frozenset(marks)\n",
    "\n",
    "marks.add(4)\n",
    "print(marks)\n",
    "print(frozen_marks)"
   ]
  },
  {
   "cell_type": "markdown",
   "metadata": {},
   "source": [
    "Find the elements in a given set that are not in another set\n",
    "\n",
    "    set1 = {10,20,30,40,50}\n",
    "\n",
    "    set2 = {40,50,60,70,80}"
   ]
  },
  {
   "cell_type": "code",
   "execution_count": 10,
   "metadata": {},
   "outputs": [
    {
     "name": "stdout",
     "output_type": "stream",
     "text": [
      "Difference of set1 and set2 using difference():\n",
      "{10, 20, 30}\n",
      "Difference of set2 and set1 using difference():\n",
      "{80, 60, 70}\n"
     ]
    }
   ],
   "source": [
    "set1 = {10,20,30,40,50}\n",
    "set2 = {40,50,60,70,80}\n",
    "set3 = set()\n",
    "\n",
    "print(\"Difference of set1 and set2 using difference():\")\n",
    "print(set1.difference(set2))\n",
    "print(\"Difference of set2 and set1 using difference():\")\n",
    "print(set2.difference(set1))\n"
   ]
  }
 ],
 "metadata": {
  "kernelspec": {
   "display_name": "Python 3",
   "language": "python",
   "name": "python3"
  },
  "language_info": {
   "codemirror_mode": {
    "name": "ipython",
    "version": 3
   },
   "file_extension": ".py",
   "mimetype": "text/x-python",
   "name": "python",
   "nbconvert_exporter": "python",
   "pygments_lexer": "ipython3",
   "version": "3.8.5"
  }
 },
 "nbformat": 4,
 "nbformat_minor": 4
}
